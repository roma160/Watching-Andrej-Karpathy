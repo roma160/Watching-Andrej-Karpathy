{
 "cells": [
  {
   "cell_type": "markdown",
   "metadata": {},
   "source": [
    "# Part 3: Activations & Gradients, BatchNorm\n",
    "\n",
    "https://www.youtube.com/watch?v=P6sfmUTpUmc"
   ]
  },
  {
   "cell_type": "markdown",
   "metadata": {},
   "source": [
    "The explanation of a part with the variance: https://youtu.be/P6sfmUTpUmc?si=G62p26aFWutrgqHw&t=1834\n",
    "\n",
    "The link to an explanation: https://math.stackexchange.com/questions/3207911/variance-of-inner-product-of-random-vector\n",
    "\n",
    "$$ \\large\n",
    "\\begin{align*}\n",
    "\\mathrm{Var}(\\mathbf v^T \\mathbf c) &= \\mathbb E[(\\mathbf v^T \\mathbf c)^2]-\\mathbb E[\\mathbf v^T \\mathbf c]^2\\\\\n",
    "&= \\mathbb E[(\\mathbf v^T \\mathbf c)^T(\\mathbf v^T \\mathbf c)]-\\mathbb E[\\mathbf v^T \\mathbf c]^T\\mathbb E[\\mathbf v^T \\mathbf c]\\\\\n",
    "&= \\mathbb E[\\mathbf c^T\\mathbf v\\mathbf v^T \\mathbf c]-\\mathbb E[\\mathbf c^T \\mathbf v]\\mathbb E[\\mathbf v^T \\mathbf c]\\\\\n",
    "&= \\mathbf c^T\\mathbb E[\\mathbf v\\mathbf v^T ]\\mathbf c-\\mathbf c^T\\mathbb E[ \\mathbf v]\\mathbb E[\\mathbf v^T ]\\mathbf c\\\\\n",
    "&= \\mathbf c^T\\left(\\mathbb E[\\mathbf v\\mathbf v^T ]-\\mathbb E[ \\mathbf v]\\mathbb E[\\mathbf v^T ]\\right)\\mathbf c\\\\\n",
    "&= \\mathbf c^T \\mathrm{Var}(\\mathbf v)\\mathbf c\\\\\n",
    "&= \\mathbf c^T (\\sigma^2 I) \\mathbf c\\\\\n",
    "&=  \\sigma^2 \\mathbf c^T\\mathbf c\\\\\n",
    "&=  \\sigma^2 N^2\\\\\n",
    "\\end{align*}\n",
    "$$\n",
    "\n",
    "(In this formula assume that $\\mathrm{Var}(\\mathbf{v}) = \\sigma^2 = 1$)"
   ]
  },
  {
   "cell_type": "code",
   "execution_count": null,
   "metadata": {},
   "outputs": [],
   "source": []
  }
 ],
 "metadata": {
  "language_info": {
   "name": "python"
  },
  "orig_nbformat": 4
 },
 "nbformat": 4,
 "nbformat_minor": 2
}
