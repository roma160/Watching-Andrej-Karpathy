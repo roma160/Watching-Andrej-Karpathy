{
 "cells": [
  {
   "cell_type": "markdown",
   "metadata": {},
   "source": [
    "# The second  part in the series (MLP -> Multilayer perceptron)\n",
    "\n",
    "https://youtu.be/TCH_1BHY58I"
   ]
  },
  {
   "cell_type": "markdown",
   "metadata": {},
   "source": [
    "What I will try to do in this notebook is rather trying to use Pytorch to train something\n",
    "\n",
    "The guy in the video basically is going to create an embedding (encoder -> decoder) network."
   ]
  },
  {
   "cell_type": "code",
   "execution_count": 43,
   "metadata": {},
   "outputs": [
    {
     "data": {
      "text/plain": [
       "['emma',\n",
       " 'olivia',\n",
       " 'ava',\n",
       " 'isabella',\n",
       " 'sophia',\n",
       " 'charlotte',\n",
       " 'mia',\n",
       " 'amelia',\n",
       " 'harper',\n",
       " 'evelyn']"
      ]
     },
     "execution_count": 43,
     "metadata": {},
     "output_type": "execute_result"
    }
   ],
   "source": [
    "# Let's do some data import\n",
    "import utils.dataparse as dataparse\n",
    "\n",
    "project_folder = \"./\"\n",
    "\n",
    "with dataparse.get_file(\n",
    "    \"https://raw.githubusercontent.com/karpathy/makemore/master/names.txt\",\n",
    "    project_folder + \"data/names.txt\"\n",
    ") as names:\n",
    "    words = names.read().split()\n",
    "\n",
    "words[:10]\n"
   ]
  },
  {
   "cell_type": "code",
   "execution_count": 44,
   "metadata": {},
   "outputs": [],
   "source": [
    "# Boilerplate from part1\n",
    "\n",
    "chars = sorted(list(set(''.join(words))))\n",
    "stoi = {s: i + 1 for i, s in enumerate(chars)}\n",
    "stoi['.'] = 0\n",
    "itos = {i: s for s, i in stoi.items()}\n"
   ]
  },
  {
   "cell_type": "markdown",
   "metadata": {},
   "source": [
    "## Starting doing the math thingy"
   ]
  },
  {
   "cell_type": "code",
   "execution_count": 45,
   "metadata": {},
   "outputs": [],
   "source": [
    "import torch\n",
    "import torch.nn.functional as F\n",
    "import matplotlib.pyplot as plt"
   ]
  },
  {
   "cell_type": "code",
   "execution_count": 46,
   "metadata": {},
   "outputs": [
    {
     "data": {
      "text/plain": [
       "(torch.Size([228146, 3]), torch.Size([228146]))"
      ]
     },
     "execution_count": 46,
     "metadata": {},
     "output_type": "execute_result"
    }
   ],
   "source": [
    "# Building the training dataset:\n",
    "\n",
    "block_size = 3\n",
    "X, Y = [], []\n",
    "\n",
    "for w in words[:]:\n",
    "    # print(w)\n",
    "    context = [0] * block_size\n",
    "    for ch in w + '.':\n",
    "        ix = stoi[ch]\n",
    "        X.append(context)\n",
    "        Y.append(ix)\n",
    "\n",
    "        # print(''.join(itos[i] for i in context), '-->', itos[ix])\n",
    "\n",
    "        context = context[1:] + [ix]\n",
    "\n",
    "\n",
    "X = torch.tensor(X)\n",
    "Y = torch.tensor(Y)\n",
    "\n",
    "X.shape, Y.shape"
   ]
  },
  {
   "cell_type": "code",
   "execution_count": 47,
   "metadata": {},
   "outputs": [
    {
     "data": {
      "text/plain": [
       "tensor([[ 1.9269,  1.4873],\n",
       "        [ 0.9007, -2.1055],\n",
       "        [ 0.6784, -1.2345],\n",
       "        [-0.0431, -1.6047],\n",
       "        [-0.7521,  1.6487],\n",
       "        [-0.3925, -1.4036],\n",
       "        [-0.7279, -0.5594],\n",
       "        [-0.7688,  0.7624],\n",
       "        [ 1.6423, -0.1596],\n",
       "        [-0.4974,  0.4396]])"
      ]
     },
     "execution_count": 47,
     "metadata": {},
     "output_type": "execute_result"
    }
   ],
   "source": [
    "# Doing the lookup table\n",
    "torch.manual_seed(42)\n",
    "\n",
    "C = torch.randn((len(stoi), 2))\n",
    "C[:10]"
   ]
  },
  {
   "cell_type": "code",
   "execution_count": 48,
   "metadata": {},
   "outputs": [
    {
     "data": {
      "text/plain": [
       "(tensor([-0.3925, -1.4036]), tensor([-0.3925, -1.4036]))"
      ]
     },
     "execution_count": 48,
     "metadata": {},
     "output_type": "execute_result"
    }
   ],
   "source": [
    "F.one_hot(torch.tensor(5), num_classes=len(stoi)).float() @ C, C[5]"
   ]
  },
  {
   "cell_type": "code",
   "execution_count": 49,
   "metadata": {},
   "outputs": [
    {
     "data": {
      "text/plain": [
       "torch.Size([228146, 3, 2])"
      ]
     },
     "execution_count": 49,
     "metadata": {},
     "output_type": "execute_result"
    }
   ],
   "source": [
    "emb = C[X]\n",
    "emb.shape"
   ]
  },
  {
   "cell_type": "code",
   "execution_count": 50,
   "metadata": {},
   "outputs": [],
   "source": [
    "second_layer_n = 100\n",
    "W1 = torch.randn((emb.shape[1] * emb.shape[2], second_layer_n))\n",
    "b1 = torch.randn(second_layer_n)"
   ]
  },
  {
   "cell_type": "code",
   "execution_count": 51,
   "metadata": {},
   "outputs": [
    {
     "data": {
      "text/plain": [
       "(tensor([[-1.0000, -0.0952, -0.8826, -0.1602,  0.7221,  1.0000,  0.9659, -0.8895,\n",
       "           1.0000, -0.9993,  0.8103, -0.1196, -0.9860,  0.3586,  0.9951,  1.0000,\n",
       "          -0.9555, -0.8892, -1.0000,  1.0000, -0.9851,  0.9975, -0.9984, -0.8343,\n",
       "           0.9383,  0.8768, -0.9999,  1.0000,  0.9995,  0.9906,  1.0000, -0.9658,\n",
       "           0.9926,  0.9999,  0.6609,  0.9991,  1.0000,  0.9936,  0.9975,  0.5316,\n",
       "          -1.0000, -0.9686, -1.0000,  0.9072,  1.0000,  0.4069,  0.9501,  0.9969,\n",
       "           0.7417, -0.8194,  0.9989,  0.8344,  0.3451, -0.4388,  0.2211,  1.0000,\n",
       "          -0.9987, -1.0000, -0.9843, -0.9982, -0.9986,  0.9999,  0.9976, -0.9404,\n",
       "          -0.9312,  0.8987,  0.3376, -0.9999,  0.9994,  1.0000,  0.9912,  1.0000,\n",
       "           0.5174,  0.9994,  1.0000,  0.7762,  0.9822, -0.9844, -0.9960,  0.9681,\n",
       "          -1.0000,  0.9978,  1.0000, -0.9975, -0.9995,  0.9835,  0.8506, -0.9970,\n",
       "          -0.9996,  0.9999, -0.9739,  0.8937, -0.9999,  1.0000, -0.9991,  1.0000,\n",
       "           0.9995, -0.9805,  0.9999, -0.9924]]),\n",
       " torch.Size([228146, 100]))"
      ]
     },
     "execution_count": 51,
     "metadata": {},
     "output_type": "execute_result"
    }
   ],
   "source": [
    "h = torch.tanh(emb.view(emb.shape[0], -1) @ W1 + b1)\n",
    "h[:1], h.shape"
   ]
  },
  {
   "cell_type": "code",
   "execution_count": 52,
   "metadata": {},
   "outputs": [],
   "source": [
    "W2 = torch.randn((second_layer_n, len(stoi)))\n",
    "b2 = torch.randn(len(stoi))"
   ]
  },
  {
   "cell_type": "code",
   "execution_count": 53,
   "metadata": {},
   "outputs": [],
   "source": [
    "logits = h @ W2 + b2"
   ]
  },
  {
   "cell_type": "markdown",
   "metadata": {},
   "source": [
    "### This is one way to compute the loss"
   ]
  },
  {
   "cell_type": "code",
   "execution_count": 54,
   "metadata": {},
   "outputs": [],
   "source": [
    "counts = logits.exp()\n",
    "prob = counts / counts.sum(1, keepdim=True)"
   ]
  },
  {
   "cell_type": "code",
   "execution_count": 55,
   "metadata": {},
   "outputs": [
    {
     "data": {
      "text/plain": [
       "tensor(16.7265)"
      ]
     },
     "execution_count": 55,
     "metadata": {},
     "output_type": "execute_result"
    }
   ],
   "source": [
    "loss = -prob[torch.arange(prob.shape[0]), Y].log().mean()\n",
    "loss"
   ]
  },
  {
   "cell_type": "markdown",
   "metadata": {},
   "source": [
    "### But this one is better:"
   ]
  },
  {
   "cell_type": "code",
   "execution_count": 56,
   "metadata": {},
   "outputs": [
    {
     "data": {
      "text/plain": [
       "tensor(16.7265)"
      ]
     },
     "execution_count": 56,
     "metadata": {},
     "output_type": "execute_result"
    }
   ],
   "source": [
    "loss = F.cross_entropy(logits, Y)\n",
    "loss"
   ]
  },
  {
   "cell_type": "markdown",
   "metadata": {},
   "source": [
    "## Now let's combine forward and backwards pass together"
   ]
  },
  {
   "cell_type": "code",
   "execution_count": 57,
   "metadata": {},
   "outputs": [],
   "source": [
    "# To quicker reset things\n",
    "\n",
    "# Doing the lookup table\n",
    "torch.manual_seed(42)\n",
    "\n",
    "C = torch.randn((len(stoi), 2))\n",
    "\n",
    "second_layer_n = 100\n",
    "W1 = torch.randn((emb.shape[1] * emb.shape[2], second_layer_n))\n",
    "b1 = torch.randn(second_layer_n)\n",
    "W2 = torch.randn((second_layer_n, len(stoi)))\n",
    "b2 = torch.randn(len(stoi))\n",
    "\n",
    "\n",
    "parameters = [C, W1, b1, W2, b2]\n",
    "\"\"\"\n",
    "    Fix to a\n",
    "    \"element 0 of tensors does not require grad and does not have a grad_fn\"\n",
    "    issue\n",
    "\"\"\"\n",
    "for p in parameters:\n",
    "    p.requires_grad = True"
   ]
  },
  {
   "cell_type": "code",
   "execution_count": 58,
   "metadata": {},
   "outputs": [],
   "source": [
    "# Experementing with the learning rates\n",
    "\n",
    "lre = torch.linspace(-3, 0, 100)\n",
    "lrs = 10 ** lre"
   ]
  },
  {
   "cell_type": "code",
   "execution_count": 59,
   "metadata": {},
   "outputs": [],
   "source": [
    "# lossi = []\n",
    "\n",
    "# for i in range(10000):\n",
    "#     # Batch construct\n",
    "#     ix = torch.randint(0, X.shape[0], (32, ))\n",
    "\n",
    "#     # Forwards pass\n",
    "#     emb = C[X[ix]]\n",
    "#     h = torch.tanh(emb.view(emb.shape[0], -1) @ W1 + b1)\n",
    "#     logits = h @ W2 + b2\n",
    "#     loss = F.cross_entropy(logits, Y[ix])\n",
    "#     # print(loss.item())\n",
    "\n",
    "#     # # Backward pass\n",
    "#     for p in parameters:\n",
    "#         p.grad = None\n",
    "#     loss.backward()\n",
    "\n",
    "#     # lr = lrs[i]\n",
    "#     lr = 10 ** -2\n",
    "#     for p in parameters:\n",
    "#         p.data -= lr * p.grad\n",
    "\n",
    "#     # Track stats\n",
    "#     lossi.append(loss.item())\n",
    "\n",
    "# print(loss.item())"
   ]
  },
  {
   "cell_type": "code",
   "execution_count": 60,
   "metadata": {},
   "outputs": [],
   "source": [
    "# plt.plot(lre, lossi)"
   ]
  },
  {
   "cell_type": "code",
   "execution_count": 61,
   "metadata": {},
   "outputs": [
    {
     "data": {
      "text/plain": [
       "tensor(16.7265, grad_fn=<NllLossBackward0>)"
      ]
     },
     "execution_count": 61,
     "metadata": {},
     "output_type": "execute_result"
    }
   ],
   "source": [
    "emb = C[X]\n",
    "h = torch.tanh(emb.view(emb.shape[0], -1) @ W1 + b1)\n",
    "logits = h @ W2 + b2\n",
    "loss = F.cross_entropy(logits, Y)\n",
    "loss"
   ]
  },
  {
   "cell_type": "markdown",
   "metadata": {},
   "source": [
    "## Try to do the dataset split for the training\n",
    "\n",
    "To prevent overfitting"
   ]
  },
  {
   "cell_type": "code",
   "execution_count": 63,
   "metadata": {},
   "outputs": [],
   "source": [
    "torch.manual_seed(42)\n",
    "\n",
    "x = X[torch.randperm(X.shape[0])]\n",
    "y = Y[torch.randperm(Y.shape[0])]\n",
    "\n",
    "n1 = int(x.shape[0] * .8)\n",
    "n2 = int(y.shape[0] * .9)\n",
    "\n",
    "Xtr, Ytr = x[:n1], y[:n1]\n",
    "Xdev, Ydev = x[n1:n2], y[n1:n2]\n",
    "Xte, Yte = x[n2:], y[n2:]\n"
   ]
  },
  {
   "cell_type": "code",
   "execution_count": null,
   "metadata": {},
   "outputs": [],
   "source": []
  }
 ],
 "metadata": {
  "kernelspec": {
   "display_name": "Python 3",
   "language": "python",
   "name": "python3"
  },
  "language_info": {
   "codemirror_mode": {
    "name": "ipython",
    "version": 3
   },
   "file_extension": ".py",
   "mimetype": "text/x-python",
   "name": "python",
   "nbconvert_exporter": "python",
   "pygments_lexer": "ipython3",
   "version": "3.9.7"
  },
  "orig_nbformat": 4
 },
 "nbformat": 4,
 "nbformat_minor": 2
}
